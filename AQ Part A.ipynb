{
 "cells": [
  {
   "cell_type": "markdown",
   "metadata": {},
   "source": [
    "### 1. Implement an algorithm to solve the described mentioned problem.\n",
    "\n",
    "\n",
    "I found a small discrepancy regarding example 2. In fact, from my algorithm and also from the calculations carried out by hand the result of the second input is 403 instead of 399."
   ]
  },
  {
   "cell_type": "code",
   "execution_count": null,
   "metadata": {},
   "outputs": [],
   "source": [
    "def max_global_score(N, M, S, skills_required, athletes):\n",
    "    # Function to calculate the maximum global score based on given parameters\n",
    "\n",
    "    skillsBestValues = []  # List to store the best values for each skill\n",
    "    totale = 0  # Variable to store the total score\n",
    "    bestAbility = 0  # Variable to store the best ability for each skill\n",
    "\n",
    "    # Loop through each skill required\n",
    "    for skill in skills_required:\n",
    "        # Loop through each athlete\n",
    "        for k, v in athletes.items():\n",
    "            # Loop through each skill and score of the athlete\n",
    "            for t in v:\n",
    "                # Check if the athlete has the required skill\n",
    "                if t[0] == skill:\n",
    "                    valoreAtleta = t[1]  # Get the score for the skill\n",
    "                    skillsBestValues.append(valoreAtleta)  # Add the score to the list\n",
    "\n",
    "        # Check if there are any scores for the current skill\n",
    "        if skillsBestValues != []:\n",
    "            bestAbility = max(skillsBestValues)  # Find the maximum score for the skill\n",
    "\n",
    "        totale += bestAbility  # Add the best ability to the total score\n",
    "        skillsBestValues.clear()  # Clear the list for the next skill\n",
    "\n",
    "        # Remove the athlete with the best ability for the current skill\n",
    "        for k, v in athletes.items():\n",
    "            for t in v:\n",
    "                if t[0] == skill and bestAbility == t[1]:\n",
    "                    athletes[k].remove(t)\n",
    "\n",
    "        bestAbility = 0  # Reset the best ability for the next iteration\n",
    "\n",
    "    print(totale)  # Print the total score\n",
    "    return totale  # Return the total score\n",
    "\n",
    "\n",
    "# Input N, M, S values\n",
    "N, M, S = map(int, input().split())\n",
    "# Input the list of skills required\n",
    "skills_required = input().split()\n",
    "\n",
    "# Initialize a dictionary to store athletes and their abilities\n",
    "athletes = {}\n",
    "\n",
    "# Input athlete information\n",
    "for _ in range(N):\n",
    "    athlete_id = int(input())\n",
    "    athletes_abilities = []\n",
    "    for _ in range(S):\n",
    "        skill, score = input().split()\n",
    "        athletes_abilities.append((skill, int(score)))\n",
    "    athletes[athlete_id] = athletes_abilities\n",
    "\n",
    "# Call the function to calculate the result\n",
    "result = max_global_score(N, M, S, skills_required, athletes)\n"
   ]
  },
  {
   "cell_type": "markdown",
   "metadata": {},
   "source": [
    "### 2. What is the time complexity (the Big O notation) of your solution? Please provide a detailed explanation of how you calculated the time complexity.\n",
    "\n",
    "The outer loop iterates over each skill required (for skill in skills_required). Inside this loop, there are two nested loops that iterate over each athlete's skills (for k, v in athletes.items() and for t in v). These nested loops are responsible for finding the maximum score for each skill.\n",
    "\n",
    "For each skill, there are two nested loops. The innermost loop iterates over the skills of a specific athlete. In the worst case, it may iterate over all the skills (S). Therefore, the time complexity for finding the maximum score for a skill is O(S).\n",
    "\n",
    "The outer loop runs for each skill (M times). Therefore, the overall time complexity is O(M * S).\n",
    "\n",
    "Additionally, the code contains operations like appending, clearing a list (skillsBestValues.clear()), and removing elements from the athletes' list. These operations are typically O(1) on average. However, since they are within the nested loops, we need to consider their impact on the overall time complexity.\n",
    "\n",
    "In conclusion, the time complexity of the provided code is O(M * S), where M is the number of skills required, and S is the maximum number of skills an athlete may have."
   ]
  },
  {
   "cell_type": "markdown",
   "metadata": {},
   "source": [
    "### 3. Ask ChatGPT or any other LLM chatbot tool to check your code's time complexity (the Big O notation). Compare your answer to theirs. If the two differ, which one is right? (why?)\n",
    "\n",
    "The time complexity of the code provided is O(M * S), where M is the number of skills required and S is the maximum number of skills an athlete can have. This result is consistent with both manual analysis and could be obtained from automatic tools. The two complexities agree."
   ]
  },
  {
   "cell_type": "markdown",
   "metadata": {},
   "source": [
    "### 4. If you algorithm has exponential time complexity, can you provide a polynomial-time version?\n",
    "\n",
    "\n",
    "Looking at the code I wrote, the time complexity is not exponential, but it's not as efficient as it could be. In the worst case, it's quadratic - O(S^2 * N), where S is the number of skills and N is the number of athletes.\n",
    "I used nested loops: one for skills, one for athletes, and another for athlete skills. This leads to a lot of iterations, especially when removing skills with the highest values for each athlete.\n",
    "To improve efficiency, I could consider using data structures like dictionaries or sets for faster skill lookup and removal operations. Also, rethinking the algorithm to avoid unnecessary iterations might help in reducing the time complexity.\n",
    "\n",
    "In summary, while the current implementation works, it might not be the most optimal for larger inputs, and there's room for improvement in terms of time complexity."
   ]
  },
  {
   "cell_type": "markdown",
   "metadata": {},
   "source": [
    "### 5. If S=1, how does the time complexity of an optimal algorithm to solve this problem change?\n",
    "\n",
    "If S = 1, meaning there is only one skill required, the time complexity of the algorithm can be improved significantly. In this case, the nested loops over skills become a single loop, as there is only one skill to iterate over. The second inner loop, which iterates over athlete skills, is eliminated as well.\n",
    "\n",
    "With S = 1, the time complexity becomes O(N), where N is the number of athletes. This is a linear time complexity, and the algorithm becomes more efficient because it no longer depends on the number of skills. The overall performance improves when there is a single skill required, and the algorithm becomes more scalable for larger inputs."
   ]
  }
 ],
 "metadata": {
  "kernelspec": {
   "display_name": "Python 3",
   "language": "python",
   "name": "python3"
  },
  "language_info": {
   "codemirror_mode": {
    "name": "ipython",
    "version": 3
   },
   "file_extension": ".py",
   "mimetype": "text/x-python",
   "name": "python",
   "nbconvert_exporter": "python",
   "pygments_lexer": "ipython3",
   "version": "3.9.6"
  }
 },
 "nbformat": 4,
 "nbformat_minor": 2
}
